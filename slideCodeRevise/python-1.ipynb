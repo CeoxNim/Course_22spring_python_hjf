{
 "cells": [
  {
   "cell_type": "markdown",
   "metadata": {},
   "source": [
    "Nothing important"
   ]
  }
 ],
 "metadata": {
  "interpreter": {
   "hash": "2a771ba863aeebcb04e1554cb428e51867cfe2bf562feb5b90d224e3b5d932e4"
  },
  "kernelspec": {
   "display_name": "Python 3.9.2 ('py39')",
   "language": "python",
   "name": "python3"
  },
  "language_info": {
   "name": "python",
   "version": "3.9.2"
  },
  "orig_nbformat": 4
 },
 "nbformat": 4,
 "nbformat_minor": 2
}
