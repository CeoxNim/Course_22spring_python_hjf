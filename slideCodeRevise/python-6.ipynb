{
 "cells": [
  {
   "cell_type": "markdown",
   "metadata": {},
   "source": [
    "Numpy 基础"
   ]
  },
  {
   "cell_type": "code",
   "execution_count": 2,
   "metadata": {},
   "outputs": [
    {
     "name": "stdout",
     "output_type": "stream",
     "text": [
      "array('i')\n",
      "array('i', [1, 2, 3, 4, 5, 6, 7])\n"
     ]
    }
   ],
   "source": [
    "from array import array \n",
    "\n",
    "arr = array('i', [i for i in range(1, 8)])\n",
    "\n",
    "with open('arr.bin', 'wb') as f:\n",
    "    arr.tofile(f)\n",
    "\n",
    "arr2 = array('i')\n",
    "print(arr2)\n",
    "\n",
    "with open(\"arr.bin\", 'rb') as f:\n",
    "    arr2.fromfile(f, 7) # 第二个参数控制读入的item数\n",
    "\n",
    "print(arr2)"
   ]
  },
  {
   "cell_type": "code",
   "execution_count": 3,
   "metadata": {},
   "outputs": [
    {
     "name": "stdout",
     "output_type": "stream",
     "text": [
      "<class 'numpy.ndarray'>\n"
     ]
    },
    {
     "data": {
      "text/plain": [
       "array([3.14, 4.  , 2.  , 3.  ])"
      ]
     },
     "execution_count": 3,
     "metadata": {},
     "output_type": "execute_result"
    }
   ],
   "source": [
    "import numpy as np\n",
    "\n",
    "arr = np.array([3.14, 4, 2, 3])\n",
    "print(type(arr))\n",
    "arr"
   ]
  },
  {
   "cell_type": "code",
   "execution_count": 5,
   "metadata": {},
   "outputs": [
    {
     "name": "stdout",
     "output_type": "stream",
     "text": [
      "[3 4]\n",
      "[1 1]\n",
      "[[1. 1. 1. 1.]\n",
      " [1. 1. 1. 1.]\n",
      " [1. 1. 1. 1.]]\n"
     ]
    }
   ],
   "source": [
    "import numpy as np\n",
    "\n",
    "arr = np.array((3, 4), dtype=int)\n",
    "print(arr)\n",
    "\n",
    "arr = np.ones_like((3, 4))\n",
    "print(arr)\n",
    "\n",
    "arr = np.ones((3, 4), dtype=float)\n",
    "print(arr)"
   ]
  },
  {
   "cell_type": "code",
   "execution_count": 8,
   "metadata": {},
   "outputs": [
    {
     "name": "stdout",
     "output_type": "stream",
     "text": [
      "<class 'numpy.ndarray'> <class 'numpy.int64'> (3,)\n",
      "[5 2 3]\n",
      "{1, 2, 3, 4, 5, 6, 7}\n"
     ]
    }
   ],
   "source": [
    "a = np.array([1, 2, 3])\n",
    "print(type(a), type(a[0]), a.shape)\n",
    "a[0] = 5\n",
    "print(a)\n",
    "\n",
    "a = np.array(set(i for i in range(1, 8)))\n",
    "print(a)"
   ]
  },
  {
   "cell_type": "code",
   "execution_count": 12,
   "metadata": {},
   "outputs": [
    {
     "name": "stdout",
     "output_type": "stream",
     "text": [
      "[[[1 1 1 1]\n",
      "  [1 1 1 1]\n",
      "  [1 1 1 1]]\n",
      "\n",
      " [[1 1 1 1]\n",
      "  [1 1 1 1]\n",
      "  [1 1 1 1]]]\n",
      "[[[0 0 0 0]\n",
      "  [0 0 0 0]\n",
      "  [0 0 0 0]]\n",
      "\n",
      " [[0 0 0 0]\n",
      "  [0 0 0 0]\n",
      "  [0 0 0 0]]]\n",
      "[[7 7]\n",
      " [7 7]]\n",
      "[[1. 0. 0.]\n",
      " [0. 1. 0.]\n",
      " [0. 0. 1.]]\n",
      "[[0.80635165 0.80632512]\n",
      " [0.45265903 0.99299843]]\n"
     ]
    }
   ],
   "source": [
    "a = np.ones((2, 3, 4), dtype=np.int16)\n",
    "print(a)\n",
    "\n",
    "b = np.zeros((2, 3, 4), dtype=np.int16)\n",
    "print(b)\n",
    "\n",
    "c = np.full((2, 2), 7)\n",
    "print(c)\n",
    "\n",
    "d = np.eye(3)\n",
    "print(d)\n",
    "\n",
    "e = np.random.random((2, 2))\n",
    "print(e)"
   ]
  },
  {
   "cell_type": "code",
   "execution_count": 15,
   "metadata": {},
   "outputs": [
    {
     "name": "stdout",
     "output_type": "stream",
     "text": [
      "(48, 24, 8)\n"
     ]
    }
   ],
   "source": [
    "a = np.arange(12).reshape(2, 2, 3)\n",
    "print(a.strides)"
   ]
  },
  {
   "cell_type": "code",
   "execution_count": 23,
   "metadata": {},
   "outputs": [
    {
     "name": "stdout",
     "output_type": "stream",
     "text": [
      "[[ 6.  8.]\n",
      " [10. 12.]]\n",
      "[[ 6.  8. 10. 12.]]\n",
      "[[ 7. 10.]\n",
      " [13. 16.]]\n",
      "[[5. 6.]\n",
      " [7. 8.]]\n",
      "[[4. 4.]\n",
      " [4. 4.]]\n",
      "[[ 4.  8.]\n",
      " [12. 16.]]\n",
      "[[ 4.  8.]\n",
      " [12. 16.]]\n",
      "[[0.25 0.5 ]\n",
      " [0.75 1.  ]]\n",
      "[[0.25 0.5 ]\n",
      " [0.75 1.  ]]\n",
      "[[1.41421356 1.41421356]\n",
      " [1.41421356 1.41421356]]\n"
     ]
    }
   ],
   "source": [
    "x = np.array([[1, 2], [3, 4]], dtype=np.float64)\n",
    "y = np.array([[5, 6], [7, 8]], dtype=np.float64)\n",
    "\n",
    "print(x + y)\n",
    "y = x + y\n",
    "print(y.reshape(1, -1))\n",
    "print(np.add(x, y))\n",
    "\n",
    "print(y - x)\n",
    "y = np.subtract(y, x) - x\n",
    "print(y)\n",
    "\n",
    "print(x * y)\n",
    "print(np.multiply(x, y))\n",
    "\n",
    "print(x / y)\n",
    "print(np.divide(x, y))\n",
    "\n",
    "y = np.sqrt(y)\n",
    "print(np.sqrt(y))"
   ]
  },
  {
   "cell_type": "code",
   "execution_count": 31,
   "metadata": {},
   "outputs": [
    {
     "name": "stdout",
     "output_type": "stream",
     "text": [
      "[[4 5 0 1]\n",
      " [6 7 2 3]]\n",
      "[[0 1 4 5]\n",
      " [2 3 6 7]]\n",
      "[[0 1 4 5]\n",
      " [2 3 6 7]]\n"
     ]
    }
   ],
   "source": [
    "x = np.arange(4).reshape(2, 2)\n",
    "y = np.arange(4, 8).reshape(2, 2)\n",
    "z = np.concatenate((y, x), axis=1)\n",
    "print(z)\n",
    "\n",
    "z.sort()\n",
    "print(z)\n",
    "z.sort(axis=0)\n",
    "print(z)"
   ]
  },
  {
   "cell_type": "code",
   "execution_count": 33,
   "metadata": {},
   "outputs": [
    {
     "name": "stdout",
     "output_type": "stream",
     "text": [
      "[[100 101 102 103]\n",
      " [104 105 106 107]]\n",
      "[[ 0  3  6  9]\n",
      " [12 15 18 21]]\n"
     ]
    }
   ],
   "source": [
    "a = np.arange(8).reshape(2, 4)\n",
    "b = np.full((1, 4), 100)\n",
    "print(a + b)\n",
    "\n",
    "c = np.array([3])\n",
    "print(a * c)"
   ]
  },
  {
   "cell_type": "code",
   "execution_count": 36,
   "metadata": {},
   "outputs": [
    {
     "name": "stdout",
     "output_type": "stream",
     "text": [
      "(3,) (1, 3)\n",
      "[[2 4 6]]\n",
      "[[1]\n",
      " [2]\n",
      " [3]] (3, 1)\n",
      "[[2 3 4]\n",
      " [3 4 5]\n",
      " [4 5 6]]\n"
     ]
    }
   ],
   "source": [
    "x = np.array([1, 2, 3])\n",
    "y = np.array([[1, 2, 3]])\n",
    "print(x.shape, y.shape)\n",
    "\n",
    "print(x + y)\n",
    "z = x[:, np.newaxis]\n",
    "print(z, z.shape)\n",
    "print(x + z)"
   ]
  },
  {
   "cell_type": "code",
   "execution_count": null,
   "metadata": {},
   "outputs": [],
   "source": []
  }
 ],
 "metadata": {
  "interpreter": {
   "hash": "2a771ba863aeebcb04e1554cb428e51867cfe2bf562feb5b90d224e3b5d932e4"
  },
  "kernelspec": {
   "display_name": "Python 3.9.2 ('py39')",
   "language": "python",
   "name": "python3"
  },
  "language_info": {
   "codemirror_mode": {
    "name": "ipython",
    "version": 3
   },
   "file_extension": ".py",
   "mimetype": "text/x-python",
   "name": "python",
   "nbconvert_exporter": "python",
   "pygments_lexer": "ipython3",
   "version": "3.9.2"
  },
  "orig_nbformat": 4
 },
 "nbformat": 4,
 "nbformat_minor": 2
}
