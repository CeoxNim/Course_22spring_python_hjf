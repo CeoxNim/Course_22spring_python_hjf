{
 "cells": [
  {
   "cell_type": "code",
   "execution_count": 4,
   "metadata": {},
   "outputs": [
    {
     "name": "stdout",
     "output_type": "stream",
     "text": [
      "[1, 2, 3, ['a', 'b']]\n",
      "[1, 2, 3, ['a', 'b', 'cccc'], 6]\n",
      "[1, 2, 3, ['a', 'b', 'cccc']]\n"
     ]
    }
   ],
   "source": [
    "# 浅拷贝，复制容器中的对象引用\n",
    "import copy\n",
    "ls = [1, 2, 3, ['a', 'b']]\n",
    "c = copy.copy(ls)\n",
    "print(c)\n",
    "\n",
    "ls[3].append('cccc')\n",
    "ls.append(6)\n",
    "print(ls)\n",
    "print(c)"
   ]
  },
  {
   "cell_type": "code",
   "execution_count": 5,
   "metadata": {},
   "outputs": [
    {
     "name": "stdout",
     "output_type": "stream",
     "text": [
      "[1, 2, 3, ['a', 'b', 'cccc'], 4]\n",
      "[1, 2, 3, ['a', 'b']]\n"
     ]
    }
   ],
   "source": [
    "# 深拷贝，复制引用的关系及所引用的对象\n",
    "import copy\n",
    "\n",
    "ls = [1, 2, 3, ['a', 'b']]\n",
    "d = copy.deepcopy(ls)\n",
    "\n",
    "ls.append(4)\n",
    "ls[3].append(\"cccc\")\n",
    "print(ls)\n",
    "print(d)"
   ]
  },
  {
   "cell_type": "code",
   "execution_count": 6,
   "metadata": {},
   "outputs": [
    {
     "name": "stdout",
     "output_type": "stream",
     "text": [
      "6\n",
      "7\n",
      "8\n"
     ]
    }
   ],
   "source": [
    "# 定义一个迭代器类\n",
    "class Foo:\n",
    "    \n",
    "    def __init__(self, n):\n",
    "        self.n = n\n",
    "    \n",
    "    def __iter__(self):\n",
    "        return self\n",
    "    \n",
    "    def __next__(self):\n",
    "        if self.n >= 8:\n",
    "            raise StopIteration\n",
    "        self.n += 1\n",
    "        return self.n\n",
    "\n",
    "f1 = Foo(5)\n",
    "for i in f1:\n",
    "    print(i)"
   ]
  },
  {
   "cell_type": "code",
   "execution_count": 10,
   "metadata": {},
   "outputs": [
    {
     "name": "stdout",
     "output_type": "stream",
     "text": [
      "7\n",
      "9\n",
      "12\n",
      "15\n"
     ]
    }
   ],
   "source": [
    "class Infiter:\n",
    "    step = 2\n",
    "\n",
    "    def __init__(self, num):\n",
    "        self.n = num \n",
    "\n",
    "    def __iter__(self):\n",
    "        Infiter.step = 3\n",
    "        return self\n",
    "    \n",
    "    def __next__(self):\n",
    "        self.n += Infiter.step\n",
    "        if self.n < 16:\n",
    "            return self.n\n",
    "        else:\n",
    "            raise StopIteration\n",
    "\n",
    "f2 = Infiter(5)\n",
    "print(next(f2))\n",
    "print(next(f2))\n",
    "\n",
    "for i in f2:\n",
    "    print(i)"
   ]
  },
  {
   "cell_type": "code",
   "execution_count": 11,
   "metadata": {},
   "outputs": [
    {
     "name": "stdout",
     "output_type": "stream",
     "text": [
      "0 10\n",
      "1 20\n",
      "2 30\n"
     ]
    },
    {
     "data": {
      "text/plain": [
       "[10, 20, 30]"
      ]
     },
     "execution_count": 11,
     "metadata": {},
     "output_type": "execute_result"
    }
   ],
   "source": [
    "class LinePrint:\n",
    "    def __init__(self, newline=\"\\n\"):\n",
    "        self.line = 0\n",
    "        self.rt = newline\n",
    "    def __call__(self, x):\n",
    "        print(self.line, x, end=self.rt)\n",
    "        self.line += 1\n",
    "        return x\n",
    "\n",
    "list(map(LinePrint(), [10, 20, 30]))"
   ]
  },
  {
   "cell_type": "code",
   "execution_count": 12,
   "metadata": {},
   "outputs": [
    {
     "name": "stdout",
     "output_type": "stream",
     "text": [
      "[INFO]: the function say() is running...\n",
      "say hello!\n"
     ]
    }
   ],
   "source": [
    "# 基于类实现的装饰器\n",
    "# 必须实现call和init两个内置函数\n",
    "class logger(object):\n",
    "    def __init__(self, func):\n",
    "        self.func = func\n",
    "    def __call__(self, *args, **kwargs):\n",
    "        print(\"[INFO]: the function {func}() is running...\".format(func=self.func.__name__))\n",
    "        return self.func(*args, **kwargs)\n",
    "\n",
    "@logger\n",
    "def say(something):\n",
    "    print(\"say {}!\".format(something))\n",
    "say(\"hello\")"
   ]
  },
  {
   "cell_type": "code",
   "execution_count": 14,
   "metadata": {},
   "outputs": [
    {
     "name": "stdout",
     "output_type": "stream",
     "text": [
      "<b class='bold_css'><i class='italic_css'>Hello, here is the content!</i></b>\n"
     ]
    }
   ],
   "source": [
    "class makeHtmlTagClass(object):\n",
    "    def __init__(self, tag, css_class=\"\"):\n",
    "        self._tag = tag\n",
    "        self._css_class = \" class='{0}'\".format(css_class) if css_class != \"\" else \"\"\n",
    "    def __call__(self, fn):\n",
    "        def wrapped(*args, **kwargs):\n",
    "            return \"<\" + self._tag + self._css_class + \">\" + fn(*args, **kwargs) + \"</\" + self._tag + \">\"\n",
    "        return wrapped\n",
    "\n",
    "@makeHtmlTagClass(tag=\"b\", css_class=\"bold_css\")\n",
    "@makeHtmlTagClass(tag=\"i\", css_class=\"italic_css\")\n",
    "def say(something):\n",
    "    return \"Hello, {}\".format(something)\n",
    "print(say(\"here is the content!\"))"
   ]
  },
  {
   "cell_type": "code",
   "execution_count": 18,
   "metadata": {},
   "outputs": [
    {
     "name": "stdout",
     "output_type": "stream",
     "text": [
      "1\n",
      "2\n",
      "3\n"
     ]
    }
   ],
   "source": [
    "# linked list\n",
    "class Node(object):\n",
    "    def __init__(self, value):\n",
    "        self.value = value\n",
    "        self.nextnode = None\n",
    "\n",
    "a = Node(1)\n",
    "b = Node(2)\n",
    "c = Node(3)\n",
    "a.nextnode = b\n",
    "b.nextnode = c\n",
    "while a:\n",
    "    print(a.value)\n",
    "    a = a.nextnode"
   ]
  },
  {
   "cell_type": "code",
   "execution_count": 19,
   "metadata": {},
   "outputs": [],
   "source": [
    "# binary tree\n",
    "class BinaryTree(object):\n",
    "    def __init__(self, root):\n",
    "        self.key = root\n",
    "        self.leftChild = None\n",
    "        self.rightChild = None\n",
    "    def insertLeft(self, newNode):\n",
    "        if not self.leftChild:\n",
    "            self.leftChild = BinaryTree(newNode)\n",
    "        else:\n",
    "            t = BinaryTree(newNode)\n",
    "            t.leftChild = self.leftChild\n",
    "            self.leftChild = t\n",
    "    def insertRight(self, newNode):\n",
    "        if not self.rightChild:\n",
    "            self.rightChild = BinaryTree(newNode)\n",
    "        else:\n",
    "            t = BinaryTree(newNode)\n",
    "            t.rightChild = self.rightChild\n",
    "            self.rightChild = t \n",
    "    def getLeftChild(self):\n",
    "        return self.leftChild\n",
    "    def getrightChild(self):\n",
    "        return self.rightChild\n",
    "    def getRootVal(self):\n",
    "        return self.key\n",
    "    def setRootVal(self, obj):\n",
    "        self.key = obj"
   ]
  },
  {
   "cell_type": "code",
   "execution_count": 20,
   "metadata": {},
   "outputs": [
    {
     "name": "stdout",
     "output_type": "stream",
     "text": [
      "person is talking...\n",
      "is walking...\n"
     ]
    }
   ],
   "source": [
    "# 类的继承\n",
    "class Person(object):\n",
    "    def talk(self):\n",
    "        print(\"person is talking...\")\n",
    "\n",
    "class Chinese(Person):\n",
    "    def walk(self):\n",
    "        print(\"is walking...\")\n",
    "\n",
    "c = Chinese()\n",
    "c.talk()\n",
    "c.walk()"
   ]
  },
  {
   "cell_type": "code",
   "execution_count": 23,
   "metadata": {},
   "outputs": [
    {
     "name": "stdout",
     "output_type": "stream",
     "text": [
      "Xiao wang is speaking Chinese\n"
     ]
    }
   ],
   "source": [
    "# 给实例传参，要用到构造函数，构造函数也要继承\n",
    "class Person(object):\n",
    "    def __init__(self, name, age):\n",
    "        self.name = name\n",
    "        self.age = age\n",
    "        self.weight = \"weight\"\n",
    "    def talk(self):\n",
    "        print(\"person is talking...\")\n",
    "\n",
    "class Chinese(Person):\n",
    "    def __init__(self, name, age, language):\n",
    "        Person.__init__(self, name, age)\n",
    "        self.language = language\n",
    "    def walk(self):\n",
    "        print(\"is walking...\")\n",
    "    def talk(self):\n",
    "        print(\"%s is speaking Chinese\" % self.name)\n",
    "\n",
    "c = Chinese(\"Xiao wang\", 22, \"Chinese\")\n",
    "c.talk()"
   ]
  },
  {
   "cell_type": "code",
   "execution_count": 28,
   "metadata": {},
   "outputs": [
    {
     "name": "stdout",
     "output_type": "stream",
     "text": [
      "use instance_method create book instance\n",
      "use class_method create book instance\n",
      "use static_method create book instance\n"
     ]
    }
   ],
   "source": [
    "# 类方法 静态方法\n",
    "class Book(object):\n",
    "    def __init__(self, title):\n",
    "        self.title = title\n",
    "    \n",
    "    @classmethod\n",
    "    def class_method_create(cls, title):\n",
    "        book = cls(title=title)\n",
    "        return book\n",
    "    \n",
    "    @staticmethod\n",
    "    def static_method_create(title):\n",
    "        book = Book(title)\n",
    "        return book\n",
    "\n",
    "book1 = Book(\"use instance_method create book instance\")\n",
    "print(book1.title)\n",
    "book2 = Book.class_method_create(\"use class_method create book instance\")\n",
    "print(book2.title)\n",
    "book3 = Book.static_method_create(\"use static_method create book instance\")\n",
    "print(book3.title)"
   ]
  }
 ],
 "metadata": {
  "interpreter": {
   "hash": "2a771ba863aeebcb04e1554cb428e51867cfe2bf562feb5b90d224e3b5d932e4"
  },
  "kernelspec": {
   "display_name": "Python 3.9.2 ('py39')",
   "language": "python",
   "name": "python3"
  },
  "language_info": {
   "codemirror_mode": {
    "name": "ipython",
    "version": 3
   },
   "file_extension": ".py",
   "mimetype": "text/x-python",
   "name": "python",
   "nbconvert_exporter": "python",
   "pygments_lexer": "ipython3",
   "version": "3.9.2"
  },
  "orig_nbformat": 4
 },
 "nbformat": 4,
 "nbformat_minor": 2
}
