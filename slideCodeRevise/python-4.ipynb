{
 "cells": [
  {
   "cell_type": "code",
   "execution_count": null,
   "metadata": {},
   "outputs": [],
   "source": [
    "# 单例模式——所有生成实例都指向同一个对象\n",
    "\n",
    "# Method 1\n",
    "class Singleton(object):\n",
    "    attr = None     # 类属性\n",
    "    def __init__(self):\n",
    "        print(\"Do something.\")\n",
    "    \n",
    "    def __new__(cls, *args, **kwargs):  # 重载\n",
    "        if not cls.attr:\n",
    "            cls.attr = super(Singleton, cls).__new__(cls)\n",
    "        return cls.attr\n",
    "\n",
    "obj1 = Singleton()\n",
    "obj2 = Singleton()\n",
    "print(obj1, obj2)\n",
    "\n",
    "# Method 2 \n",
    "class Singleton(object):\n",
    "    def __init__(self):\n",
    "        print(\"Do something new.\")\n",
    "    def __new__(cls, *args, **kwargs):\n",
    "        if not hasattr(Singleton, \"_instance\"):\n",
    "            Singleton._instance = object.__new__(cls)\n",
    "        return Singleton._instance\n",
    "\n",
    "obj1 = Singleton()\n",
    "obj2 = Singleton()\n",
    "print(obj1, obj2)"
   ]
  },
  {
   "cell_type": "code",
   "execution_count": null,
   "metadata": {},
   "outputs": [],
   "source": [
    "# 工厂类的示例\n",
    "import abc\n",
    "class StandardFactory(object):\n",
    "    @staticmethod\n",
    "    def get_factory(factory):\n",
    "        \"\"\" 根据参数找到对实际操作的工厂 \"\"\"\n",
    "        if factory == \"cat\":\n",
    "            return CatFactory()\n",
    "        elif factory == \"dog\":\n",
    "            return DogFactory()\n",
    "        raise TypeError(\"Unkown Factory.\")\n",
    "\n",
    "class Pet(abc.ABC):     # 用于构建抽象类\n",
    "    @abc.abstractmethod\n",
    "    def eat(self):\n",
    "        pass\n",
    "\n",
    "    def jump(self):\n",
    "        print(\"jump...\")\n",
    "\n",
    "class Dog(Pet):\n",
    "    def eat(self):\n",
    "        return \"Dog eat...\"\n",
    "\n",
    "class Cat(Pet):\n",
    "    def eat(self):\n",
    "        return \"Cat eat...\"\n",
    "\n",
    "\n",
    "class DogFactory(object):\n",
    "    def get_pet(self):\n",
    "        return Dog()\n",
    "\n",
    "class CatFactory(object):\n",
    "    def get_pet(self):\n",
    "        return Cat()\n",
    "\n",
    "if __name__ == \"__main__\":\n",
    "    factory = StandardFactory.get_factory(\"cat\")\n",
    "    cat = factory.get_pet()\n",
    "    print(cat.eat())\n",
    "\n",
    "    factory = StandardFactory.get_factory(\"dog\")\n",
    "    dog = factory.get_pet()\n",
    "    print(dog.eat())\n",
    "\n",
    "    dog.jump()\n",
    "    cat.jump()"
   ]
  },
  {
   "cell_type": "code",
   "execution_count": null,
   "metadata": {},
   "outputs": [],
   "source": [
    "# 观察者模式（发布-订阅模式）\n",
    "# 多使用一种“注册-通知-撤销注册”的形式\n",
    "class Subject:\n",
    "    \"\"\" some subject \"\"\"\n",
    "    def __init__(self):\n",
    "        self.observers = []\n",
    "\n",
    "    def add_observer(self, observer):\n",
    "        self.observers.append(observer)\n",
    "        return self\n",
    "\n",
    "    def remove_observer(self, observer):\n",
    "        self.observers.remove(observer)\n",
    "        return self\n",
    "\n",
    "    def notify(self, msg):\n",
    "        for observer in self.observers:\n",
    "            observer.update(msg)\n",
    "\n",
    "class Observer:\n",
    "    def __init__(self, name):\n",
    "        self.name = name\n",
    "    \n",
    "    def update(self, msg):\n",
    "        print(f\"{self.name}收到消息: {msg}\")\n",
    "\n",
    "xiaoming = Observer(\"xiaoming\")\n",
    "lihua = Observer(\"lihua\")\n",
    "\n",
    "rain = Subject()\n",
    "\n",
    "# 添加订阅\n",
    "rain.add_observer(xiaoming)\n",
    "rain.add_observer(lihua)\n",
    "\n",
    "rain.notify(\"下雨了！\")\n",
    "\n",
    "# 取消订阅\n",
    "rain.remove_observer(lihua)"
   ]
  },
  {
   "cell_type": "code",
   "execution_count": null,
   "metadata": {},
   "outputs": [],
   "source": [
    "%%writefile cs.py\n",
    "# Module: 文件形式保存的功能模组\n",
    "def fib(n): # write Fibonacci series up to n\n",
    "    a, b = 0, 1\n",
    "    while b < n:\n",
    "        print(b, end=\" \")\n",
    "        a, b = b, a + b\n",
    "    print()\n",
    "\n",
    "def fib2(n): # return Fibonacci series up to n\n",
    "    result = []\n",
    "    a, b = 0, 1\n",
    "    while b < n:\n",
    "        result.append(b)\n",
    "        a, b = b, a + b\n",
    "    return result\n"
   ]
  },
  {
   "cell_type": "code",
   "execution_count": null,
   "metadata": {},
   "outputs": [],
   "source": [
    "import cs as fb\n",
    "\n",
    "fb.fib(4)\n",
    "print(fb.fib2(3))\n",
    "\n",
    "from cs import fib\n",
    "\n",
    "fib(5)"
   ]
  },
  {
   "cell_type": "code",
   "execution_count": null,
   "metadata": {},
   "outputs": [],
   "source": [
    "%%writefile cs.py\n",
    "# Python多进程编程\n",
    "# jupyter不支持多进程，所以输出到文件\n",
    "# jupyter内置命令要放在行首\n",
    "from multiprocessing import Process\n",
    "import os\n",
    "import time\n",
    "\n",
    "def hello(i):\n",
    "    print(\"son process id {} - for task {}\".format(os.getpid(), i))\n",
    "    time.sleep(2)\n",
    "    \n",
    "if __name__ == \"__main__\":\n",
    "    print(\"current father process {}\".format(os.getpid()))\n",
    "    start = time.time()\n",
    "    p1 = Process(target=hello, args=(1, ))\n",
    "    p2 = Process(target=hello, args=(2, ))\n",
    "    p1.start()\n",
    "    p2.start()\n",
    "    p1.join()\n",
    "    p2.join()\n",
    "    end = time.time()\n",
    "    print(\"Totally take {} seconds\".format(end - start))"
   ]
  },
  {
   "cell_type": "code",
   "execution_count": null,
   "metadata": {},
   "outputs": [],
   "source": [
    "%run cs.py"
   ]
  },
  {
   "cell_type": "code",
   "execution_count": null,
   "metadata": {},
   "outputs": [],
   "source": [
    "%%writefile cs.py\n",
    "# 进程池管理python多进程\n",
    "from multiprocessing import Process, Pool\n",
    "import os\n",
    "import time\n",
    "\n",
    "def hello(i):\n",
    "    print(\"son process id {} - for task {}\".format(os.getpid(), i))\n",
    "    time.sleep(1)\n",
    "\n",
    "if __name__ == \"__main__\":\n",
    "    print(\"current father process {}\".format(os.getpid()))\n",
    "    start = time.time()\n",
    "    p = Pool(4)\n",
    "    for i in range(5):\n",
    "        p.apply_async(hello, args=(i, ))\n",
    "    p.close()\n",
    "    p.join()\n",
    "    end = time.time()\n",
    "    print(\"Totally take {} seconds\".format(end - start))"
   ]
  },
  {
   "cell_type": "code",
   "execution_count": null,
   "metadata": {},
   "outputs": [],
   "source": [
    "!python cs.py"
   ]
  },
  {
   "cell_type": "code",
   "execution_count": null,
   "metadata": {},
   "outputs": [],
   "source": [
    "%%writefile cs.py\n",
    "from multiprocessing import Pool\n",
    "import os, time, random\n",
    "\n",
    "def long_time_task(name):\n",
    "    print(\"Run task %s (%s)...\" % (name, os.getpid()))\n",
    "    start = time.time()\n",
    "    time.sleep(random.random() * 3)\n",
    "    end = time.time()\n",
    "    print(\"Task %s runs %0.2f seconds.\" % (name, end - start))\n",
    "\n",
    "if __name__ == \"__main__\":\n",
    "    print(\"Parent process %s.\" % os.getpid())\n",
    "    p = Pool(4)\n",
    "    for i in range(5):\n",
    "        p.apply_async(long_time_task, args=(i, ))   # apply_async是异步的，子进程执行的同时，主进程继续向下执行\n",
    "    print(\"Waiting for all subprocess done...\")\n",
    "    p.close()\n",
    "    p.join()\n",
    "    print(\"All subprocesses done.\")"
   ]
  },
  {
   "cell_type": "code",
   "execution_count": null,
   "metadata": {},
   "outputs": [],
   "source": [
    "!python cs.py"
   ]
  },
  {
   "cell_type": "code",
   "execution_count": 18,
   "metadata": {},
   "outputs": [
    {
     "name": "stdout",
     "output_type": "stream",
     "text": [
      "Overwriting cs.py\n"
     ]
    }
   ],
   "source": [
    "%%writefile cs.py\n",
    "# 多进程模式下的主从通讯\n",
    "from multiprocessing import Process, Pipe\n",
    "\n",
    "def f(conn):\n",
    "    conn.send([42, None, \"hello\"])\n",
    "    conn.close()\n",
    "\n",
    "if __name__ == \"__main__\":\n",
    "    parent_conn, child_conn = Pipe()\n",
    "    p = Process(target=f, args=(child_conn, ))\n",
    "    p.start()\n",
    "    print(parent_conn.recv())\n",
    "    p.join()"
   ]
  },
  {
   "cell_type": "code",
   "execution_count": 19,
   "metadata": {},
   "outputs": [
    {
     "name": "stdout",
     "output_type": "stream",
     "text": [
      "[42, None, 'hello']\n"
     ]
    }
   ],
   "source": [
    "!python cs.py"
   ]
  },
  {
   "cell_type": "code",
   "execution_count": 20,
   "metadata": {},
   "outputs": [
    {
     "name": "stdout",
     "output_type": "stream",
     "text": [
      "Overwriting cs.py\n"
     ]
    }
   ],
   "source": [
    "%%writefile cs.py\n",
    "# 生产者-消费者模式    \n",
    "# 数据通常保留在一个消息队列中，提供队列进行数据共享 Multiprocessing.Queue\n",
    "from multiprocessing import Process, Queue\n",
    "import os, time, random\n",
    "\n",
    "# 写数据进程执行的代码\n",
    "def producer(q):\n",
    "    for value in range(5):\n",
    "        print(\"Produce %d\" % value)\n",
    "        q.put(value)\n",
    "        time.sleep(1)\n",
    "\n",
    "# 读数据进程执行的代码\n",
    "def consumer(q):\n",
    "    while True:\n",
    "        value = q.get(True)\n",
    "        print(\"Consume %d\" % value)\n",
    "        time.sleep(1)\n",
    "\n",
    "if __name__ == \"__main__\":\n",
    "    t0 = time.time()\n",
    "    # 父进程创建Queue，并传给各个子进程\n",
    "    q = Queue()\n",
    "    pw = Process(target=producer, args=(q, ))\n",
    "    pr = Process(target=consumer, args=(q, ))\n",
    "    pw.start()\n",
    "    pr.start()\n",
    "    pw.join()\n",
    "    pr.terminate()  # pr进程里是死循环，无法等待结束，只能强行终止\n",
    "    print(\"Take %ss.\" % (time.time() - t0))"
   ]
  },
  {
   "cell_type": "code",
   "execution_count": 21,
   "metadata": {},
   "outputs": [
    {
     "name": "stdout",
     "output_type": "stream",
     "text": [
      "Produce 0\n",
      "Consume 0\n",
      "Produce 1\n",
      "Consume 1\n",
      "Produce 2\n",
      "Consume 2\n",
      "Produce 3\n",
      "Consume 3\n",
      "Produce 4\n",
      "Consume 4\n",
      "Take 5.0938591957092285s.\n"
     ]
    }
   ],
   "source": [
    "!python cs.py"
   ]
  },
  {
   "cell_type": "code",
   "execution_count": 22,
   "metadata": {},
   "outputs": [
    {
     "name": "stdout",
     "output_type": "stream",
     "text": [
      "thread id: Thread-7 for task 1\n",
      "thread id: Thread-8 for task 2\n",
      "Take 2.0064802169799805s\n"
     ]
    }
   ],
   "source": [
    "# python多线程编程\n",
    "import threading\n",
    "import time\n",
    "\n",
    "def hello(i):\n",
    "    print(\"thread id: {} for task {}\".format(threading.current_thread().name, i))\n",
    "    time.sleep(2)\n",
    "\n",
    "if __name__ == \"__main__\":\n",
    "    start = time.time()\n",
    "    t1 = threading.Thread(target=hello, args=(1, ))\n",
    "    t2 = threading.Thread(target=hello, args=(2, ))\n",
    "    t1.start()\n",
    "    t2.start()\n",
    "    t1.join()\n",
    "    t2.join()\n",
    "    end = time.time()\n",
    "    print(\"Take {}s\".format(end - start))"
   ]
  },
  {
   "cell_type": "code",
   "execution_count": 23,
   "metadata": {},
   "outputs": [
    {
     "name": "stdout",
     "output_type": "stream",
     "text": [
      "'fib' yield 1\n",
      "'fib' receive 1\n",
      "'fib' yield 1\n",
      "'fib' receive 1\n",
      "'fib' yield 2\n",
      "'fib' receive 1\n",
      "'fib' yield 3\n",
      "'fib' receive 1\n",
      "'fib' yield 5\n"
     ]
    }
   ],
   "source": [
    "# python迭代器\n",
    "def fib(n):\n",
    "    index = 0\n",
    "    a, b = 0, 1\n",
    "    while index < n:\n",
    "        receive = yield b\n",
    "        print(\"'fib' receive %d\" % receive)\n",
    "        a, b = b, a + b\n",
    "        index += 1\n",
    "\n",
    "fib = fib(20)\n",
    "print(\"'fib' yield %d\" % fib.send(None)) # 效果等同于print(next(fib))\n",
    "print(\"'fib' yield %d\" % fib.send(1)) \n",
    "print(\"'fib' yield %d\" % fib.send(1)) \n",
    "print(\"'fib' yield %d\" % fib.send(1)) \n",
    "print(\"'fib' yield %d\" % fib.send(1)) "
   ]
  },
  {
   "cell_type": "code",
   "execution_count": 24,
   "metadata": {},
   "outputs": [
    {
     "name": "stdout",
     "output_type": "stream",
     "text": [
      "[PRODUCER] Producing 1...\n",
      "[CONSUMER] Consuming 1...\n",
      "[PRODUCER] Consumer return: 200 OK\n",
      "[PRODUCER] Producing 2...\n",
      "[CONSUMER] Consuming 2...\n",
      "[PRODUCER] Consumer return: 200 OK\n",
      "[PRODUCER] Producing 3...\n",
      "[CONSUMER] Consuming 3...\n",
      "[PRODUCER] Consumer return: 200 OK\n",
      "[PRODUCER] Producing 4...\n",
      "[CONSUMER] Consuming 4...\n",
      "[PRODUCER] Consumer return: 200 OK\n",
      "[PRODUCER] Producing 5...\n",
      "[CONSUMER] Consuming 5...\n",
      "[PRODUCER] Consumer return: 200 OK\n"
     ]
    }
   ],
   "source": [
    "# python用迭代器实现协程\n",
    "def consumer():\n",
    "    r = \"\"\n",
    "    while True:\n",
    "        n = yield r\n",
    "        if not n:\n",
    "            return \n",
    "        print(\"[CONSUMER] Consuming %s...\" % n)\n",
    "        r = \"200 OK\"\n",
    "\n",
    "def produce(c):\n",
    "    c.send(None)\n",
    "    n = 0\n",
    "    while n < 5:\n",
    "        n += 1\n",
    "        print(\"[PRODUCER] Producing %s...\" % n)\n",
    "        r = c.send(n)\n",
    "        print(\"[PRODUCER] Consumer return: %s\" % r)\n",
    "    c.close()\n",
    "\n",
    "c = consumer()\n",
    "produce(c)"
   ]
  }
 ],
 "metadata": {
  "interpreter": {
   "hash": "2a771ba863aeebcb04e1554cb428e51867cfe2bf562feb5b90d224e3b5d932e4"
  },
  "kernelspec": {
   "display_name": "Python 3.9.2 ('py39')",
   "language": "python",
   "name": "python3"
  },
  "language_info": {
   "codemirror_mode": {
    "name": "ipython",
    "version": 3
   },
   "file_extension": ".py",
   "mimetype": "text/x-python",
   "name": "python",
   "nbconvert_exporter": "python",
   "pygments_lexer": "ipython3",
   "version": "3.9.2"
  },
  "orig_nbformat": 4
 },
 "nbformat": 4,
 "nbformat_minor": 2
}
