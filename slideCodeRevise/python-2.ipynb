{
 "cells": [
  {
   "cell_type": "code",
   "execution_count": 4,
   "metadata": {},
   "outputs": [
    {
     "name": "stdout",
     "output_type": "stream",
     "text": [
      "{1, 2, 3}\n",
      "{'b', 'a', 'c'}\n",
      "{2, 3, 7}\n",
      "{3}\n"
     ]
    }
   ],
   "source": [
    "# set 集合\n",
    "s1 = {1, 2, 3, 1}\n",
    "s2 = set(\"abca\")\n",
    "print(s1)\n",
    "print(s2)\n",
    "\n",
    "s1.add(7)\n",
    "s1.remove(1)\n",
    "print(s1)\n",
    "\n",
    "s1 = set([1, 2, 3, 3])\n",
    "s2 = set([1, 2])\n",
    "print(s1 - s2)"
   ]
  },
  {
   "cell_type": "code",
   "execution_count": 3,
   "metadata": {},
   "outputs": [
    {
     "name": "stdout",
     "output_type": "stream",
     "text": [
      "[1, 1, 2, 3, 6, 8, 10]\n"
     ]
    }
   ],
   "source": [
    "# quciksort\n",
    "def quicksort(a):\n",
    "    if len(a) <= 1:\n",
    "        return a\n",
    "    else:\n",
    "        return (quicksort(list(filter(lambda x: x <= a[0], a[1: ])))\n",
    "                + [a[0]]\n",
    "                + quicksort(list(filter(lambda x: x > a[0], a[1: ]))))\n",
    "print(quicksort([3, 6, 8, 10, 1, 2, 1]))"
   ]
  },
  {
   "cell_type": "code",
   "execution_count": 11,
   "metadata": {},
   "outputs": [
    {
     "name": "stdout",
     "output_type": "stream",
     "text": [
      "1\n",
      "1\n",
      "2\n",
      "3\n",
      "5\n"
     ]
    },
    {
     "data": {
      "text/plain": [
       "1"
      ]
     },
     "execution_count": 11,
     "metadata": {},
     "output_type": "execute_result"
    }
   ],
   "source": [
    "# generator\n",
    "def fib(n_max=5):\n",
    "    n, a, b = 0, 0, 1\n",
    "    while n < n_max:\n",
    "        yield b\n",
    "        a, b = b, a + b\n",
    "        n += 1\n",
    "f = fib()\n",
    "for i in f:\n",
    "    print(i, sep=\", \")\n",
    "\n",
    "f = fib()\n",
    "next(f)"
   ]
  },
  {
   "cell_type": "code",
   "execution_count": 14,
   "metadata": {},
   "outputs": [
    {
     "name": "stdout",
     "output_type": "stream",
     "text": [
      "Hi, CeoxNim\n"
     ]
    }
   ],
   "source": [
    "# 函数闭包\n",
    "def print_msg(msg):\n",
    "    def printer(st=\"\"):\n",
    "        print(msg + st)\n",
    "    return printer\n",
    "\n",
    "another = print_msg(\"Hi, \")\n",
    "another(\"CeoxNim\")"
   ]
  },
  {
   "cell_type": "code",
   "execution_count": 15,
   "metadata": {},
   "outputs": [
    {
     "name": "stdout",
     "output_type": "stream",
     "text": [
      "3\n",
      "1\n"
     ]
    }
   ],
   "source": [
    "# 函数闭包实现类似于函数模板的功能\n",
    "def inc(x):\n",
    "    return x + 1\n",
    "\n",
    "def dec(x):\n",
    "    return x - 1\n",
    "\n",
    "def make_operate_of(func):\n",
    "    def operate(x):\n",
    "        return func(x)\n",
    "    return operate\n",
    "\n",
    "addone = make_operate_of(inc)\n",
    "minusone = make_operate_of(dec)\n",
    "\n",
    "print(addone(2))\n",
    "print(minusone(2))"
   ]
  },
  {
   "cell_type": "code",
   "execution_count": 18,
   "metadata": {},
   "outputs": [
    {
     "name": "stdout",
     "output_type": "stream",
     "text": [
      "木地板 吊顶 house\n"
     ]
    }
   ],
   "source": [
    "# 函数装饰器：一般用于抽取共性操作作为功能切片，对另一类函数进行包装\n",
    "def decrator(func):\n",
    "    def dechouse():\n",
    "        print(\"木地板\", \"吊顶\", end=\" \")\n",
    "        func()\n",
    "    return dechouse\n",
    "\n",
    "def house():\n",
    "    print(\"房子\")\n",
    "\n",
    "def classroom():\n",
    "    print(\"教师\")\n",
    "\n",
    "newhouse = decrator(house)\n",
    "newhouse()"
   ]
  },
  {
   "cell_type": "code",
   "execution_count": 19,
   "metadata": {},
   "outputs": [
    {
     "name": "stdout",
     "output_type": "stream",
     "text": [
      "木地板 吊顶 officeroom\n"
     ]
    }
   ],
   "source": [
    "# @号加装饰器函数名放在函数定义的前面，表明定义了一个装饰后的函数\n",
    "@decrator\n",
    "def officeroom():\n",
    "    print(\"officeroom\")\n",
    "officeroom()"
   ]
  },
  {
   "cell_type": "code",
   "execution_count": 20,
   "metadata": {},
   "outputs": [
    {
     "name": "stdout",
     "output_type": "stream",
     "text": [
      "I am going to divide 4 and 3\n",
      "I am going to divide 4 and 0\n",
      "B CANNOT BE 0\n"
     ]
    }
   ],
   "source": [
    "# another example of decrator\n",
    "def smart_divide(func):\n",
    "    def inner(a, b):\n",
    "        print(f\"I am going to divide {a} and {b}\")\n",
    "        if b == 0:\n",
    "            print(\"B CANNOT BE 0!\")\n",
    "            return \n",
    "        return func(a, b)\n",
    "    return inner\n",
    "\n",
    "@smart_divide\n",
    "def divide(a, b):\n",
    "    return a / b\n",
    "\n",
    "divide(4, 3)\n",
    "divide(4, 0)\n"
   ]
  },
  {
   "cell_type": "code",
   "execution_count": 21,
   "metadata": {},
   "outputs": [
    {
     "name": "stdout",
     "output_type": "stream",
     "text": [
      "高档木地板,  吊顶房子\n",
      "普通木地板,  吊顶办公室\n"
     ]
    }
   ],
   "source": [
    "# 通过函数闭包对装饰器进行定制，即传入相关的参数\n",
    "def specify(req):\n",
    "    def decrator(func):\n",
    "        def dechouse():\n",
    "            print(req + \"木地板, \", \"吊顶\", end=\"\")\n",
    "            func()\n",
    "        return dechouse\n",
    "    return decrator\n",
    "\n",
    "@specify(\"高档\")\n",
    "def house():\n",
    "    print(\"房子\")\n",
    "\n",
    "@specify(\"普通\")\n",
    "def officeroom():\n",
    "    print(\"办公室\")\n",
    "\n",
    "house()\n",
    "officeroom()"
   ]
  },
  {
   "cell_type": "code",
   "execution_count": 23,
   "metadata": {},
   "outputs": [
    {
     "name": "stdout",
     "output_type": "stream",
     "text": [
      "******************************\n",
      "%%%%%%%%%%%%%%%%%%%%%%%%%%%%%%\n",
      "Hello world!\n",
      "%%%%%%%%%%%%%%%%%%%%%%%%%%%%%%\n",
      "******************************\n"
     ]
    }
   ],
   "source": [
    "# 可以有两个装饰器同时装饰\n",
    "def star(func):\n",
    "    def inner(*args):\n",
    "        print('*' * 30)\n",
    "        func(*args)\n",
    "        print('*' * 30)\n",
    "    return inner\n",
    "\n",
    "def percent(func):\n",
    "    def inner(*args):\n",
    "        print('%' * 30)\n",
    "        func(*args)\n",
    "        print('%' * 30)\n",
    "    return inner\n",
    "\n",
    "@star\n",
    "@percent\n",
    "def printer(msg):\n",
    "    print(msg)\n",
    "printer(\"Hello world!\")"
   ]
  },
  {
   "cell_type": "code",
   "execution_count": 24,
   "metadata": {},
   "outputs": [
    {
     "name": "stdout",
     "output_type": "stream",
     "text": [
      "24\n"
     ]
    }
   ],
   "source": [
    "# 装饰器实现记忆化\n",
    "def memorize_factorial(f):\n",
    "    memory = {}\n",
    "    def inner(num):\n",
    "        if num not in memory:\n",
    "            memory[num] = f(num)\n",
    "        return memory[num]\n",
    "    return inner\n",
    "\n",
    "@memorize_factorial\n",
    "def facto(num):\n",
    "    if num == 1:\n",
    "        return 1\n",
    "    else:\n",
    "        return num * facto(num - 1)\n",
    "\n",
    "print(facto(4))"
   ]
  }
 ],
 "metadata": {
  "interpreter": {
   "hash": "2a771ba863aeebcb04e1554cb428e51867cfe2bf562feb5b90d224e3b5d932e4"
  },
  "kernelspec": {
   "display_name": "Python 3.9.2 ('py39')",
   "language": "python",
   "name": "python3"
  },
  "language_info": {
   "codemirror_mode": {
    "name": "ipython",
    "version": 3
   },
   "file_extension": ".py",
   "mimetype": "text/x-python",
   "name": "python",
   "nbconvert_exporter": "python",
   "pygments_lexer": "ipython3",
   "version": "3.9.2"
  },
  "orig_nbformat": 4
 },
 "nbformat": 4,
 "nbformat_minor": 2
}
