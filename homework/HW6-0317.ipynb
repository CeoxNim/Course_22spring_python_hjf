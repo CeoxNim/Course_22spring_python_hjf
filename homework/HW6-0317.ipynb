{
 "cells": [
  {
   "cell_type": "markdown",
   "metadata": {
    "collapsed": false
   },
   "source": [
    "# Homework_2022_03_03\n",
    "\n",
    "<font color=ff0000> 截止日期 3.20 中午 11:59</font>"
   ]
  },
  {
   "cell_type": "markdown",
   "metadata": {
    "collapsed": false
   },
   "source": [
    "首先请你创建矩阵$A, B, C, D$，它们都是服从标准正态分布的矩阵，其中$A$的大小为$20\\times 40$，$B$的大小为$40\\times 40$，$C$的大小为$40\\times 1$, $D$的大小为$40 \\times 1$."
   ]
  },
  {
   "cell_type": "code",
   "execution_count": 2,
   "metadata": {
    "collapsed": false,
    "pycharm": {
     "is_executing": false,
     "name": "#%%\n"
    }
   },
   "outputs": [],
   "source": [
    "import numpy as np\n",
    "np.random.seed(1)\n",
    "# TODO\n",
    "# 不用print\n",
    "A = np.random.randn(20, 40)\n",
    "B = np.random.randn(40, 40)\n",
    "C = np.random.randn(40, 1)\n",
    "D = np.random.randn(40, 1)"
   ]
  },
  {
   "cell_type": "markdown",
   "metadata": {
    "collapsed": false
   },
   "source": [
    "### Q1.1（1分） 计算$R=A+A$, $R=A^TA$, $R=AB$, $R=B-I$。"
   ]
  },
  {
   "cell_type": "code",
   "execution_count": 3,
   "metadata": {
    "collapsed": false,
    "pycharm": {
     "is_executing": false,
     "name": "#%%\n"
    }
   },
   "outputs": [],
   "source": [
    "# TODO\n",
    "# 不用print\n",
    "R1 = A + A\n",
    "R2 = A.T @ A\n",
    "R3 = A @ B\n",
    "R4 = B - np.eye(B.shape[0])"
   ]
  },
  {
   "cell_type": "markdown",
   "metadata": {
    "collapsed": false
   },
   "source": [
    "### Q1.2（1分）计算方程组的解。\n",
    "\n",
    "$$\n",
    "\\left\\{\\begin{aligned}\n",
    "2 x_{1}+x_{2}+x_{3} &=5 \\\\\n",
    "3 x_{1}+2 x_{2}+ 2 x_{3} &=8 \\\\\n",
    "x_{2}+2 x_{3} &=2\n",
    "\\end{aligned}\\right.\n",
    "$$"
   ]
  },
  {
   "cell_type": "code",
   "execution_count": 4,
   "metadata": {
    "collapsed": false,
    "pycharm": {
     "is_executing": false,
     "name": "#%%\n"
    }
   },
   "outputs": [
    {
     "name": "stdout",
     "output_type": "stream",
     "text": [
      "[[ 2.]\n",
      " [-0.]\n",
      " [ 1.]]\n"
     ]
    }
   ],
   "source": [
    "# TODO\n",
    "A = np.array([[2, 1, 1], [3, 2, 2], [0, 1, 2]])\n",
    "Y = np.array([[5], [8], [2]])\n",
    "X = np.linalg.solve(A, Y).astype(np.float16)\n",
    "print(X)"
   ]
  },
  {
   "cell_type": "markdown",
   "metadata": {
    "collapsed": false
   },
   "source": [
    "### Q1.3（2分）求解矩阵的特征值以及对应的特征向量。输出最大最小特征值以及对应的特征向量。并画出求出的特征向量。\n",
    "使用np.linalg.eig。"
   ]
  },
  {
   "cell_type": "code",
   "execution_count": 5,
   "metadata": {
    "collapsed": false,
    "pycharm": {
     "is_executing": false,
     "name": "#%%\n"
    }
   },
   "outputs": [
    {
     "name": "stdout",
     "output_type": "stream",
     "text": [
      "Eigenvalue:\n",
      " [2. 3.]\n",
      "Eigenvector:\n",
      "[1. 0.]\n",
      "[0. 1.]\n"
     ]
    }
   ],
   "source": [
    "R = np.array([[2,0],[0,3]])\n",
    "# TODO\n",
    "c = np.linalg.eig(R)\n",
    "print(\"Eigenvalue:\\n\", c[0])\n",
    "print(\"Eigenvector:\")\n",
    "for evector in c[1]:\n",
    "    print(evector)"
   ]
  },
  {
   "cell_type": "markdown",
   "metadata": {
    "collapsed": false
   },
   "source": [
    "### 画出求出的特征向量。要求用quiver绘制箭头。"
   ]
  },
  {
   "cell_type": "code",
   "execution_count": 6,
   "metadata": {
    "collapsed": false,
    "pycharm": {
     "is_executing": false,
     "name": "#%%\n"
    }
   },
   "outputs": [
    {
     "data": {
      "image/png": "[encoded data removed]",
      "text/plain": [
       "<Figure size 432x288 with 1 Axes>"
      ]
     },
     "metadata": {
      "needs_background": "light"
     },
     "output_type": "display_data"
    }
   ],
   "source": [
    "import matplotlib.pyplot as plt\n",
    "# TODO\n",
    "\n",
    "n = c[1].shape[0]\n",
    "plt.quiver([0] * n, [0] * n, c[1][:, 0], c[1][:, 1], np.random.randn(n, 1), angles='xy', scale_units='xy', scale=1)\n",
    "plt.xlim([-1.5, 1.5])\n",
    "plt.ylim([-1.5, 1.5])\n",
    "plt.xlabel(\"x\")\n",
    "plt.ylabel(\"y\")\n",
    "plt.grid()\n",
    "plt.show()"
   ]
  },
  {
   "cell_type": "markdown",
   "metadata": {
    "collapsed": false
   },
   "source": [
    "### Q1.4（1分）给定两个矩阵，求Pearson相关系数。\n",
    "Pearson相关系数，是用来判断两个变量线性相关程度的一个统计指标。\n",
    "$cov(x,y)$表示$x$和$y$的协方差。$\\sigma_x$和$\\sigma_y$分别是$x$和$y$的标准差。\n",
    "\n",
    "$$corr_{x,y}=\\frac{cov(x,y)}{\\sigma_x*\\sigma_y}$$\n",
    "\n",
    "要求用np.cov按照公式计算。"
   ]
  },
  {
   "cell_type": "code",
   "execution_count": 7,
   "metadata": {
    "collapsed": false,
    "pycharm": {
     "is_executing": false,
     "name": "#%%\n"
    }
   },
   "outputs": [
    {
     "name": "stdout",
     "output_type": "stream",
     "text": [
      "[[1.32435978 0.72846413]\n",
      " [0.72846413 0.93219979]]\n"
     ]
    }
   ],
   "source": [
    "np.random.seed(1)\n",
    "\n",
    "xy = np.random.randn(2, 10)\n",
    "# TODO\n",
    "\n",
    "x, y = xy\n",
    "cov = np.cov(x, y)\n",
    "x_std = np.std(x)\n",
    "y_std = np.std(y)\n",
    "corr = cov / (x_std * y_std)\n",
    "print(corr)"
   ]
  },
  {
   "cell_type": "markdown",
   "metadata": {
    "collapsed": false
   },
   "source": [
    "### Q1.5（1分）哈达玛矩阵。\n",
    "\n",
    "哈达玛矩阵是由+1和-1元素构成的方阵，并且遵循：\n",
    "\n",
    "$$H_{n}\\otimes H_{n}^{T}=nI$$\n",
    "\n",
    "\n",
    "$$H_1 = \\frac{1}{\\sqrt{2}}[\\begin{matrix} \n",
    "1 &1\\\\ \n",
    "1 &-1 \\\\ \\end{matrix}]$$\n",
    "\n",
    "$$H_n = H_1 \\otimes H_{n-1} = \\frac{1}{\\sqrt{2}}\n",
    "[\\begin{matrix} \n",
    "H_{n-1} &H_{n-1}\\\\ \n",
    "H_{n-1} &-H_{n-1} \\\\ \\end{matrix}]\n",
    "$$\n",
    "\n",
    "哈达玛矩阵的阶数都是2的倍数。实现一个函数，可以输出$2^k$阶的哈达玛矩阵。\n",
    "用np.hstack构建此矩阵，可以不必带上系数。"
   ]
  },
  {
   "cell_type": "code",
   "execution_count": 9,
   "metadata": {
    "collapsed": false,
    "pycharm": {
     "is_executing": false,
     "name": "#%%\n"
    }
   },
   "outputs": [
    {
     "name": "stdout",
     "output_type": "stream",
     "text": [
      "[[8. 0. 0. 0. 0. 0. 0. 0.]\n",
      " [0. 8. 0. 0. 0. 0. 0. 0.]\n",
      " [0. 0. 8. 0. 0. 0. 0. 0.]\n",
      " [0. 0. 0. 8. 0. 0. 0. 0.]\n",
      " [0. 0. 0. 0. 8. 0. 0. 0.]\n",
      " [0. 0. 0. 0. 0. 8. 0. 0.]\n",
      " [0. 0. 0. 0. 0. 0. 8. 0.]\n",
      " [0. 0. 0. 0. 0. 0. 0. 8.]]\n"
     ]
    }
   ],
   "source": [
    "def hada(k):\n",
    "    # TODO\n",
    "    if k == 1:\n",
    "        return np.array([[1, 1], [1, -1]])\n",
    "    A = hada(k - 1)\n",
    "    matrix = np.hstack((np.vstack((A, A)), np.vstack((A, -A))))\n",
    "    return matrix.astype(np.float16)\n",
    "h8 = hada(3)\n",
    "print(h8 @ h8.T)"
   ]
  },
  {
   "cell_type": "markdown",
   "metadata": {
    "collapsed": false
   },
   "source": [
    "### Q1.6（选做）（1分）将矩阵$a$转换成蛇形数组。请不要引入新的变量，所有变化操作都在$a$上进行。"
   ]
  },
  {
   "cell_type": "code",
   "execution_count": 9,
   "metadata": {
    "collapsed": false,
    "pycharm": {
     "is_executing": false,
     "name": "#%%\n"
    }
   },
   "outputs": [
    {
     "name": "stdout",
     "output_type": "stream",
     "text": [
      "[[0 1 2]\n",
      " [3 4 5]\n",
      " [6 7 8]]\n",
      "[[0 1 2]\n",
      " [7 8 3]\n",
      " [6 5 4]]\n"
     ]
    }
   ],
   "source": [
    "a = np.arange(9).reshape(3, 3)\n",
    "# TODO\n",
    "print(a)\n",
    "a[1, 0], a[2, 0] = a[2, 0], a[1, 0]\n",
    "a[1, :], a[2, :] = a[2, [1, 2, 0]], a[1, [0, 2, 1]]\n",
    "print(a)\n"
   ]
  },
  {
   "cell_type": "markdown",
   "metadata": {
    "collapsed": false
   },
   "source": [
    "### Q2.1（2分）实现课上讲的PCA降维，并要求取最大的两个特征值来恢复矩阵。"
   ]
  },
  {
   "cell_type": "code",
   "execution_count": 93,
   "metadata": {
    "collapsed": false,
    "pycharm": {
     "is_executing": false,
     "name": "#%%\n"
    }
   },
   "outputs": [
    {
     "name": "stdout",
     "output_type": "stream",
     "text": [
      "0.8426843495317922\n",
      "0.8426843495317919\n"
     ]
    }
   ],
   "source": [
    "np.random.seed(1)\n",
    "\n",
    "x = 7*np.random.rand(100)\n",
    "y = 0.5*x + 1 + 3*np.random.rand(100)\n",
    "\n",
    "X = np.hstack([x.reshape(100, 1), x.reshape(100, 1), y.reshape(100, 1), x.reshape(100, 1)])\n",
    "\n",
    "def centerData(X):\n",
    "    X = X.copy()\n",
    "    X -= np.mean(X, axis=0)\n",
    "    return X\n",
    "\n",
    "X = centerData(X)\n",
    "print(X[7][2])\n",
    "\n",
    "# TODO\n",
    "C = np.cov(X, rowvar=False)\n",
    "eig_vals, eig_vects = np.linalg.eig(C)\n",
    "\n",
    "sorted_index = np.argsort(-eig_vals)\n",
    "top2_index = sorted_index[:2]\n",
    "top2_vects = eig_vects[:, top2_index]\n",
    "\n",
    "pca_X = X @ top2_vects\n",
    "\n",
    "reconstruct_X = pca_X @ top2_vects.T\n",
    "\n",
    "# END TODO\n",
    "print(reconstruct_X[7][2])"
   ]
  },
  {
   "cell_type": "markdown",
   "metadata": {
    "collapsed": false
   },
   "source": [
    "### Q2.2（2分）用SVD奇异值分解来压缩矩阵。"
   ]
  },
  {
   "cell_type": "markdown",
   "metadata": {
    "collapsed": false
   },
   "source": [
    "SVD将原始的矩阵$Data$分解成三个矩阵$U$,$\\Sigma$,和$V^T$，如果原始矩阵$Data$是$m$行$n$列，那么$U$,$\\Sigma$,和$V^T$就分别是$m$行$m$列、$m$行$n$列和$n$行$n$列。\n",
    "\n",
    "为了清晰起见，上述过程可以写成如下一行：$$Data_{m\\times n}=U_{m\\times m}\\Sigma_{m \\times n}V^T_{n\\times n}$$\n",
    "\n",
    "上述分解中会构建出一个矩阵$\\Sigma$，该矩阵只有对角元素，其他元素均为0. 另一个惯例就是，$\\Sigma$的对角元素是从大到小排列的。这些对角元素称为奇异值（Singular Value），它们就是矩阵$Data Data^{T}$特征值的平方根。\n",
    "\n",
    "在科学工程中，一直存在这样一个普遍事实：在某个奇异值的数目（$r$个）之后，其他的奇异值都置为0.这就意味着数据集中仅有$r$个重要特征，而其余特征则都是噪声或冗余特征。\n",
    "\n",
    "本题要求用如下结果来近似原矩阵\n",
    "$$Data_{m\\times n}\\approx U_{m\\times 3}\\Sigma_{3 \\times 3}V^T_{3\\times n}$$\n",
    "\n",
    "对矩阵$A$进行SVD分解，使用np.linalg.svd。"
   ]
  },
  {
   "cell_type": "code",
   "execution_count": 113,
   "metadata": {
    "collapsed": false,
    "pycharm": {
     "is_executing": false,
     "name": "#%%\n"
    }
   },
   "outputs": [
    {
     "name": "stdout",
     "output_type": "stream",
     "text": [
      "4.997774245881951\n",
      "4.997774245881952\n"
     ]
    }
   ],
   "source": [
    "# TODO\n",
    "# 不用print\n",
    "np.random.seed(1)\n",
    "\n",
    "x = 7*np.random.rand(100)\n",
    "y = 0.5*x + 1 + 3*np.random.rand(100)\n",
    "\n",
    "A = np.hstack([x.reshape(100, 1), x.reshape(100, 1), y.reshape(100, 1), x.reshape(100, 1)])\n",
    "\n",
    "m, n = A.shape\n",
    "\n",
    "U, Sigma, VT = np.linalg.svd(A)\n",
    "reconstruct_A = U[:, :3] @ np.diag(Sigma[:3]) @ VT[:3, :]\n",
    "print(A[7][2])\n",
    "print(reconstruct_A[7][2])"
   ]
  },
  {
   "cell_type": "code",
   "execution_count": null,
   "metadata": {},
   "outputs": [],
   "source": []
  },
  {
   "cell_type": "code",
   "execution_count": null,
   "metadata": {},
   "outputs": [],
   "source": []
  }
 ],
 "metadata": {
  "interpreter": {
   "hash": "2a771ba863aeebcb04e1554cb428e51867cfe2bf562feb5b90d224e3b5d932e4"
  },
  "kernelspec": {
   "display_name": "PyCharm (pyCLASS)",
   "language": "python",
   "name": "python3"
  },
  "language_info": {
   "codemirror_mode": {
    "name": "ipython",
    "version": 3
   },
   "file_extension": ".py",
   "mimetype": "text/x-python",
   "name": "python",
   "nbconvert_exporter": "python",
   "pygments_lexer": "ipython3",
   "version": "3.9.2"
  },
  "pycharm": {
   "stem_cell": {
    "cell_type": "raw",
    "metadata": {
     "collapsed": false
    },
    "source": []
   }
  }
 },
 "nbformat": 4,
 "nbformat_minor": 0
}
