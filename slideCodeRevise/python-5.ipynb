{
 "cells": [
  {
   "cell_type": "markdown",
   "metadata": {},
   "source": [
    "多进程在notebook环境下运行受限，将其写入到python文件然后执行"
   ]
  },
  {
   "cell_type": "code",
   "execution_count": 1,
   "metadata": {},
   "outputs": [
    {
     "name": "stdout",
     "output_type": "stream",
     "text": [
      "Overwriting cs.py\n"
     ]
    }
   ],
   "source": [
    "%%writefile cs.py\n",
    "# 创建一个子进程\n",
    "import time\n",
    "from multiprocessing import Process\n",
    "\n",
    "def func():\n",
    "    time.sleep(3)\n",
    "    print(\"Child process done!\")\n",
    "\n",
    "if __name__ == \"__main__\":\n",
    "    p = Process(target=func)\n",
    "    p.start()\n",
    "    time.sleep(2)\n",
    "    # p.join()\n",
    "    print(\"Parent process done!\")"
   ]
  },
  {
   "cell_type": "code",
   "execution_count": 2,
   "metadata": {},
   "outputs": [
    {
     "name": "stdout",
     "output_type": "stream",
     "text": [
      "Parent process done!\n",
      "Child process done!\n"
     ]
    }
   ],
   "source": [
    "!python cs.py"
   ]
  },
  {
   "cell_type": "code",
   "execution_count": 3,
   "metadata": {},
   "outputs": [
    {
     "name": "stdout",
     "output_type": "stream",
     "text": [
      "Overwriting cs.py\n"
     ]
    }
   ],
   "source": [
    "%%writefile cs.py\n",
    "# 利用队列进行进程同步\n",
    "import time\n",
    "from multiprocessing import Process, Queue\n",
    "\n",
    "def func1(q):\n",
    "    q.put([42, None, 'hello'])\n",
    "    time.sleep(2)\n",
    "    q.put(['happy new Monday!'])\n",
    "\n",
    "if __name__ == \"__main__\":\n",
    "    q = Queue()\n",
    "    p = Process(target=func1, args=(q, ))\n",
    "    p.start()\n",
    "    print(q.get())\n",
    "    print(q.get())\n",
    "    print(\"the end.\")\n",
    "    p.join()"
   ]
  },
  {
   "cell_type": "code",
   "execution_count": 4,
   "metadata": {},
   "outputs": [
    {
     "name": "stdout",
     "output_type": "stream",
     "text": [
      "[42, None, 'hello']\n",
      "['happy new Monday!']\n",
      "the end.\n"
     ]
    }
   ],
   "source": [
    "!python cs.py"
   ]
  },
  {
   "cell_type": "code",
   "execution_count": 5,
   "metadata": {},
   "outputs": [
    {
     "name": "stdout",
     "output_type": "stream",
     "text": [
      "Overwriting cs.py\n"
     ]
    }
   ],
   "source": [
    "%%writefile cs.py\n",
    "# 通过加锁进行资源同步\n",
    "import time\n",
    "import multiprocessing as mp\n",
    "from multiprocessing import Process, Lock\n",
    "\n",
    "def f(i, l):\n",
    "    l.acquire()\n",
    "    try:\n",
    "        print(\"hello, world\", i)\n",
    "        time.sleep(1)\n",
    "        print(i, \"do something\")\n",
    "    finally:\n",
    "        l.release()\n",
    "        pass\n",
    "\n",
    "if __name__ == \"__main__\":\n",
    "    mp.set_start_method('fork')\n",
    "    lock = Lock()\n",
    "    for num in range(5):\n",
    "        Process(target=f, args=(num, lock,)).start()"
   ]
  },
  {
   "cell_type": "code",
   "execution_count": 6,
   "metadata": {},
   "outputs": [
    {
     "name": "stdout",
     "output_type": "stream",
     "text": [
      "hello, world 0\n",
      "0 do something\n",
      "hello, world 1\n",
      "1 do something\n",
      "hello, world 2\n",
      "2 do something\n",
      "hello, world 3\n",
      "3 do something\n",
      "hello, world 4\n",
      "4 do something\n"
     ]
    }
   ],
   "source": [
    "!python cs.py"
   ]
  },
  {
   "cell_type": "code",
   "execution_count": 7,
   "metadata": {},
   "outputs": [
    {
     "name": "stdout",
     "output_type": "stream",
     "text": [
      "Overwriting cs.py\n"
     ]
    }
   ],
   "source": [
    "%%writefile cs.py\n",
    "# 使用value和Array共享内存\n",
    "from multiprocessing import Process, Value, Array\n",
    "def f1(n, a):\n",
    "    n.value = 3\n",
    "    for i in range(len(a)):\n",
    "        a[i] += 1\n",
    "\n",
    "def f2(n, a):\n",
    "    n.value = 1\n",
    "    for i in range(len(a)):\n",
    "        a[i] -= 2\n",
    "\n",
    "if __name__ == \"__main__\":\n",
    "    num = Value('d', 0.0)   # 声明两个可共享的对象\n",
    "    arr = Array('i', range(10)) # 初始化一个数组\n",
    "    \n",
    "    p1 = Process(target=f1, args=(num, arr))\n",
    "    p2 = Process(target=f2, args=(num, arr))\n",
    "\n",
    "    p1.start()\n",
    "    p2.start()\n",
    "\n",
    "    p1.join()\n",
    "    p2.join()\n",
    "\n",
    "    print(num.value)\n",
    "    print(arr[:])"
   ]
  },
  {
   "cell_type": "code",
   "execution_count": 8,
   "metadata": {},
   "outputs": [
    {
     "name": "stdout",
     "output_type": "stream",
     "text": [
      "1.0\n",
      "[-1, 0, 1, 2, 3, 4, 5, 6, 7, 8]\n"
     ]
    }
   ],
   "source": [
    "!python cs.py"
   ]
  },
  {
   "cell_type": "code",
   "execution_count": 9,
   "metadata": {},
   "outputs": [
    {
     "name": "stdout",
     "output_type": "stream",
     "text": [
      "Overwriting cs.py\n"
     ]
    }
   ],
   "source": [
    "%%writefile cs.py\n",
    "# 类里的变量被独自继承\n",
    "from multiprocessing import Process\n",
    "\n",
    "class MyProcess(Process):   # 继承Process类\n",
    "    pool = [0, 0]   # 每个进程继承独立的副本\n",
    "    def __init__(self, n, name):\n",
    "        super().__init__()  # 如果自己想要传参name，首先用super执行父类的init方法\n",
    "        self.n = n\n",
    "        self.name = name \n",
    "    def run(self):\n",
    "        print(\"子进程的名字是 >>>\", self.name)\n",
    "        if MyProcess.pool[0] == 0:\n",
    "            MyProcess.pool[0] = self.n\n",
    "            MyProcess.pool[1] += 1\n",
    "        else:\n",
    "            MyProcess.pool[1] = self.n\n",
    "        print(MyProcess.pool)\n",
    "\n",
    "\n",
    "if __name__ == \"__main__\":\n",
    "    p1 = MyProcess(101, name=\"child process 1\")\n",
    "    p2 = MyProcess(102, name=\"child process 2\")\n",
    "\n",
    "    p1.start()\n",
    "    p2.start()\n",
    "\n",
    "    p1.join()\n",
    "    p2.join()\n",
    "    print(\"main process done!\")"
   ]
  },
  {
   "cell_type": "code",
   "execution_count": 10,
   "metadata": {},
   "outputs": [
    {
     "name": "stdout",
     "output_type": "stream",
     "text": [
      "子进程的名字是 >>> child process 1\n",
      "[101, 1]\n",
      "子进程的名字是 >>> child process 2\n",
      "[102, 1]\n",
      "main process done!\n"
     ]
    }
   ],
   "source": [
    "!python cs.py"
   ]
  },
  {
   "cell_type": "code",
   "execution_count": 11,
   "metadata": {},
   "outputs": [],
   "source": [
    "# python用迭代器实现协程\n",
    "def gen_cal():\n",
    "    x, y = 1, 1\n",
    "    exp = None\n",
    "    while x < 256:\n",
    "        if exp == None: # 这里接受发送的值\n",
    "            x, y = y, x + y\n",
    "            exp = yield y\n",
    "        else:\n",
    "            exp = yield (eval(exp))\n",
    "gc = gen_cal()"
   ]
  },
  {
   "cell_type": "code",
   "execution_count": 12,
   "metadata": {},
   "outputs": [
    {
     "name": "stdout",
     "output_type": "stream",
     "text": [
      "2\n",
      "3\n",
      "26.0\n",
      "5\n"
     ]
    }
   ],
   "source": [
    "print(next(gc))     # next其实等价于gc.send(None)\n",
    "print(next(gc))\n",
    "print(gc.send('23+9/3.0'))\n",
    "print(next(gc))"
   ]
  },
  {
   "cell_type": "code",
   "execution_count": 13,
   "metadata": {},
   "outputs": [
    {
     "name": "stdout",
     "output_type": "stream",
     "text": [
      "[PRODUCER] Producing 1...\n",
      "[CONSUMER] Consuming 1...\n",
      "[PRODUCER] Consumer return: 200 OK\n",
      "[PRODUCER] Producing 2...\n",
      "[CONSUMER] Consuming 2...\n",
      "[PRODUCER] Consumer return: 200 OK\n",
      "[PRODUCER] Producing 3...\n",
      "[CONSUMER] Consuming 3...\n",
      "[PRODUCER] Consumer return: 200 OK\n",
      "[PRODUCER] Producing 4...\n",
      "[CONSUMER] Consuming 4...\n",
      "[PRODUCER] Consumer return: 200 OK\n",
      "[PRODUCER] Producing 5...\n",
      "[CONSUMER] Consuming 5...\n",
      "[PRODUCER] Consumer return: 200 OK\n"
     ]
    }
   ],
   "source": [
    "def consumer():\n",
    "    r = \"\"\n",
    "    while True:\n",
    "        n = yield r\n",
    "        if not n:\n",
    "            return \n",
    "        print(\"[CONSUMER] Consuming %s...\" % n)\n",
    "        r = \"200 OK\"\n",
    "\n",
    "def produce(c):\n",
    "    c.send(None)\n",
    "    n = 0\n",
    "    while n < 5:\n",
    "        n += 1\n",
    "        print(\"[PRODUCER] Producing %s...\" % n)\n",
    "        r = c.send(n)\n",
    "        print(\"[PRODUCER] Consumer return: %s\" % r)\n",
    "    c.close()\n",
    "\n",
    "c = consumer()\n",
    "produce(c)"
   ]
  },
  {
   "cell_type": "code",
   "execution_count": 14,
   "metadata": {},
   "outputs": [
    {
     "name": "stdout",
     "output_type": "stream",
     "text": [
      "Task1 need:  6\n",
      "Task2 need:  8\n",
      "Task1 need:  0\n",
      "Task2 need:  5\n",
      "Task1 Finished\n",
      "Task2 need:  2\n",
      "Task2 need:  -1\n",
      "Task2 Finished\n",
      "All finished!\n"
     ]
    }
   ],
   "source": [
    "# 任务轮转调度：用协程实现\n",
    "def task1():\n",
    "    timeN = 12\n",
    "    dur = 6\n",
    "    while timeN > 0:\n",
    "        timeN -= dur\n",
    "        print(\"Task1 need: \", timeN)\n",
    "        yield timeN     # 中断\n",
    "    print(\"Task1 Finished\")\n",
    "    \n",
    "def task2():\n",
    "    timeN = 11\n",
    "    dur = 3\n",
    "    while timeN > 0:\n",
    "        timeN -= dur\n",
    "        print(\"Task2 need: \", timeN)\n",
    "        yield           # 只交出运行权，可以不返回值\n",
    "    print(\"Task2 Finished\")\n",
    "\n",
    "def RoundRobin(*task):\n",
    "    tls = list(task)\n",
    "    while len(tls) > 0:\n",
    "        for p in tls:\n",
    "            try:\n",
    "                next(p)\n",
    "            except StopIteration:\n",
    "                tls.remove(p)\n",
    "    print(\"All finished!\")\n",
    "\n",
    "t1 = task1()\n",
    "t2 = task2()\n",
    "\n",
    "RoundRobin(t1, t2)"
   ]
  },
  {
   "cell_type": "code",
   "execution_count": 15,
   "metadata": {},
   "outputs": [
    {
     "name": "stdout",
     "output_type": "stream",
     "text": [
      "Caller: Do something.\n",
      "I am callee\n"
     ]
    }
   ],
   "source": [
    "# 回调函数\n",
    "def demo_callback(st):\n",
    "    print(st)\n",
    "\n",
    "def caller(args, func):\n",
    "    print(\"Caller: Do something.\")\n",
    "    func(args)\n",
    "\n",
    "caller((\"I am callee\"), demo_callback)"
   ]
  },
  {
   "cell_type": "code",
   "execution_count": 16,
   "metadata": {},
   "outputs": [
    {
     "name": "stdout",
     "output_type": "stream",
     "text": [
      "Call fun add() result = 8\n"
     ]
    }
   ],
   "source": [
    "# 回调函数方案实现函数的功能组合\n",
    "def demo_handle(func, args, callback):\n",
    "    result = func(*args)\n",
    "    callback(result, func.__name__)\n",
    "\n",
    "def add(x, y):\n",
    "    return x + y\n",
    "\n",
    "def notify(result, frm):\n",
    "    print(\"Call fun {}() result = {}\".format(frm, result))\n",
    "\n",
    "demo_handle(add, (3, 5), callback=notify)"
   ]
  },
  {
   "cell_type": "code",
   "execution_count": 17,
   "metadata": {},
   "outputs": [
    {
     "name": "stdout",
     "output_type": "stream",
     "text": [
      "counter = 1 result: 5\n",
      "counter = 2 result: 24\n"
     ]
    }
   ],
   "source": [
    "# 异步框架函数，用来协调运行\n",
    "def apply_handler(func, args, callback):\n",
    "    result = func(*args)\n",
    "    callback(result)\n",
    "\n",
    "def add(x, y):\n",
    "    return x + y\n",
    "\n",
    "def times(x, y):\n",
    "    return x * y\n",
    "\n",
    "def make_handler():\n",
    "    counter = 0\n",
    "    def handler(result):\n",
    "        nonlocal counter\n",
    "        counter += 1\n",
    "        print(\"counter = {} result: {}\".format(counter, result))\n",
    "    return handler\n",
    "\n",
    "handler = make_handler()    # 类似一个装饰器的功能，可具备全局管理功能\n",
    "apply_handler(add, (2, 3), callback=handler)\n",
    "apply_handler(times, (4, 6), callback=handler)"
   ]
  },
  {
   "cell_type": "code",
   "execution_count": 18,
   "metadata": {},
   "outputs": [
    {
     "name": "stdout",
     "output_type": "stream",
     "text": [
      "counter = 1 result: 8\n",
      "counter = 2 result: 15\n"
     ]
    }
   ],
   "source": [
    "# 异步方式组装回调函数\n",
    "def apply_async(func, args, *, callback):\n",
    "    result = func(*args)\n",
    "    callback.send(result)\n",
    "\n",
    "def add(x, y):\n",
    "    return x + y\n",
    "\n",
    "def times(x, y):\n",
    "    return x * y\n",
    "\n",
    "def make_handler():\n",
    "    counter = 0\n",
    "    while True:\n",
    "        result = yield\n",
    "        counter += 1\n",
    "        print(\"counter = {} result: {}\".format(counter, result))\n",
    "\n",
    "handler = make_handler()\n",
    "next(handler)\n",
    "\n",
    "apply_async(add, (3, 5), callback=handler)\n",
    "apply_async(times, (3, 5), callback=handler)"
   ]
  },
  {
   "cell_type": "code",
   "execution_count": 19,
   "metadata": {},
   "outputs": [
    {
     "name": "stdout",
     "output_type": "stream",
     "text": [
      "task1 need:  6\n",
      "Task2 need:  8\n",
      "task1 need:  0\n",
      "Task2 need:  5\n",
      "Task1 finished!\n",
      "Task2 need:  2\n",
      "Task2 need:  -1\n",
      "Task2 need:  -1\n",
      "All finished!\n"
     ]
    }
   ],
   "source": [
    "# 轮转调度队列中的协程\n",
    "waiting_list = []\n",
    "class Handle(object):   # 对准备调度的任务进行包装，如设置时间片、优先级、最大运行时间\n",
    "    def __init__(self, gen):\n",
    "        self.gen = gen\n",
    "    def call(self):\n",
    "        next(self.gen)\n",
    "        waiting_list.append(self)\n",
    "\n",
    "def RoundRobin(*tasks):\n",
    "    waiting_list.extend(Handle(c) for c in tasks)\n",
    "    while waiting_list:\n",
    "        for p in waiting_list:\n",
    "            try:\n",
    "                p.call()\n",
    "            except StopIteration:\n",
    "                waiting_list.remove(p)\n",
    "    \n",
    "    print(\"All finished!\")\n",
    "\n",
    "def task1():\n",
    "    timeN = 12\n",
    "    dur = 6\n",
    "    while timeN > 0:\n",
    "        timeN -= dur\n",
    "        print(\"task1 need: \", timeN)\n",
    "        yield timeN\n",
    "    print(\"Task1 finished!\")\n",
    "\n",
    "def task2():\n",
    "    timeN = 11\n",
    "    dur = 3\n",
    "    while timeN > 0:\n",
    "        timeN -= dur\n",
    "        print(\"Task2 need: \", timeN)\n",
    "        yield\n",
    "\n",
    "    print(\"Task2 need: \", timeN)\n",
    "\n",
    "RoundRobin(task1(), task2())\n"
   ]
  },
  {
   "cell_type": "code",
   "execution_count": 24,
   "metadata": {},
   "outputs": [
    {
     "name": "stdout",
     "output_type": "stream",
     "text": [
      "task1 need:  6\n",
      "6\n",
      "Task2 need:  8\n",
      "8\n",
      "task1 need:  0\n",
      "Task2 need:  5\n",
      "Task1 finished!\n",
      "task1 finished\n",
      "Task2 need:  2\n",
      "Task2 need:  -1\n",
      "Task2 need:  -1\n",
      "task2 finished\n",
      "All finished!\n"
     ]
    }
   ],
   "source": [
    "# 包装异步任务实现轮转调度框架\n",
    "waiting_list = []\n",
    "class Handle(object):\n",
    "    def __init__(self, gen, pri=0.5):\n",
    "        self.gen = gen\n",
    "        self.timeSlice = 0\n",
    "        self.timeNeed = 0\n",
    "        self.pri = pri   # 优先级，级别越高运行时间越大\n",
    "    def call(self):\n",
    "        try:\n",
    "            if self.timeSlice == 0:\n",
    "                self.timeNeed = next(self.gen)\n",
    "                self.timeSlice = int(self.timeNeed * self.pri)\n",
    "            else:\n",
    "                self.gen.send(self.timeSlice)\n",
    "            \n",
    "            waiting_list.append(self)\n",
    "        except StopIteration:\n",
    "            print(self.gen.__name__, \"finished\")\n",
    "\n",
    "def RoundRobin(*tasks):\n",
    "    waiting_list.extend(Handle(c) for c in tasks)\n",
    "    while waiting_list:\n",
    "        p = waiting_list.pop(0)\n",
    "        p.call()\n",
    "    print(\"All finished!\")\n",
    "\n",
    "def task1():\n",
    "    timeN = 12\n",
    "    dur = 6\n",
    "    while timeN > 0:\n",
    "        timeN -= dur\n",
    "        print(\"task1 need: \", timeN)\n",
    "        yield timeN\n",
    "    print(\"Task1 finished!\")\n",
    "\n",
    "def task2():\n",
    "    timeN = 11\n",
    "    dur = 3\n",
    "    while timeN > 0:\n",
    "        timeN -= dur\n",
    "        print(\"Task2 need: \", timeN)\n",
    "        yield timeN\n",
    "\n",
    "    print(\"Task2 need: \", timeN)\n",
    "    \n",
    "RoundRobin(task1(), task2())"
   ]
  },
  {
   "cell_type": "code",
   "execution_count": 26,
   "metadata": {},
   "outputs": [
    {
     "name": "stdout",
     "output_type": "stream",
     "text": [
      "Overwriting cs.py\n"
     ]
    }
   ],
   "source": [
    "%%writefile cs.py\n",
    "# python定义协程\n",
    "import asyncio\n",
    "import time\n",
    "\n",
    "async def say_after(delay, what):\n",
    "    await asyncio.sleep(delay)\n",
    "    print(what)\n",
    "\n",
    "async def main():\n",
    "    print(f\"started at {time.strftime('%X')}\")\n",
    "    await say_after(1, 'hello')\n",
    "    await say_after(2, 'world')\n",
    "    print(f\"finished at {time.strftime('%X')}\")\n",
    "\n",
    "asyncio.run(main())"
   ]
  },
  {
   "cell_type": "code",
   "execution_count": 27,
   "metadata": {},
   "outputs": [
    {
     "name": "stdout",
     "output_type": "stream",
     "text": [
      "started at 14:17:49\n",
      "hello\n",
      "world\n",
      "finished at 14:17:52\n"
     ]
    }
   ],
   "source": [
    "!python cs.py"
   ]
  },
  {
   "cell_type": "code",
   "execution_count": 35,
   "metadata": {},
   "outputs": [
    {
     "name": "stdout",
     "output_type": "stream",
     "text": [
      "Overwriting server.py\n"
     ]
    }
   ],
   "source": [
    "%%writefile server.py\n",
    "# 单线程服务端\n",
    "import socket\n",
    "import time\n",
    "\n",
    "# define server info\n",
    "print(\"initialize server info\")\n",
    "port = 5003\n",
    "host = '0.0.0.0'\n",
    "address = (host, port)\n",
    "\n",
    "# create TCP connection -- socket\n",
    "print(\"create TCP connection -- socket...\")\n",
    "server = socket.socket(socket.AF_INET, socket.SOCK_STREAM)\n",
    "\n",
    "# bind local machine\n",
    "print(\"bind local machine...\")\n",
    "server.bind(address)\n",
    "\n",
    "# start server\n",
    "print(\"start server...\")\n",
    "server.listen(5)\n",
    "\n",
    "# wait for connection\n",
    "while True:\n",
    "    print(\"wait for client to connect\")\n",
    "    conn, addr = server.accept()\n",
    "    print(f\"the connected client socket object: {conn}\\nClient IP address: {addr}\")\n",
    "    # send data\n",
    "    conn.send(\"Welcome to the server\".encode('utf-8'))\n",
    "    time.sleep(100)\n",
    "    conn.close()"
   ]
  },
  {
   "cell_type": "code",
   "execution_count": null,
   "metadata": {},
   "outputs": [
    {
     "name": "stdout",
     "output_type": "stream",
     "text": [
      "Overwriting client.py\n"
     ]
    }
   ],
   "source": [
    "%%writefile client.py\n",
    "import socket\n",
    "port = 5003\n",
    "hostname = '127.0.0.1'\n",
    "client = socket.socket()\n",
    "client.connect((hostname, port))\n",
    "data = client.recv(100).decode('utf-8')\n",
    "print(data)\n",
    "\n",
    "client.close()"
   ]
  },
  {
   "cell_type": "code",
   "execution_count": 37,
   "metadata": {},
   "outputs": [
    {
     "name": "stdout",
     "output_type": "stream",
     "text": [
      "initialize server info\n",
      "create TCP connection -- socket...\n",
      "bind local machine...\n",
      "start server...\n",
      "wait for client to connect\n",
      "^C\n",
      "Traceback (most recent call last):\n",
      "  File \"/Users/ceoxnim/Documents/university study/22春python课程/slideCodeRevise/server.py\", line 26, in <module>\n",
      "    conn, addr = server.accept()\n",
      "  File \"/Users/ceoxnim/miniforge3/envs/py39/lib/python3.9/socket.py\", line 293, in accept\n",
      "    fd, addr = self._accept()\n",
      "KeyboardInterrupt\n"
     ]
    }
   ],
   "source": [
    "!python server.py"
   ]
  },
  {
   "cell_type": "code",
   "execution_count": null,
   "metadata": {},
   "outputs": [],
   "source": [
    "!python client.py"
   ]
  },
  {
   "cell_type": "code",
   "execution_count": null,
   "metadata": {},
   "outputs": [],
   "source": []
  }
 ],
 "metadata": {
  "interpreter": {
   "hash": "2a771ba863aeebcb04e1554cb428e51867cfe2bf562feb5b90d224e3b5d932e4"
  },
  "kernelspec": {
   "display_name": "Python 3.9.2 ('py39')",
   "language": "python",
   "name": "python3"
  },
  "language_info": {
   "codemirror_mode": {
    "name": "ipython",
    "version": 3
   },
   "file_extension": ".py",
   "mimetype": "text/x-python",
   "name": "python",
   "nbconvert_exporter": "python",
   "pygments_lexer": "ipython3",
   "version": "3.9.2"
  },
  "orig_nbformat": 4
 },
 "nbformat": 4,
 "nbformat_minor": 2
}
